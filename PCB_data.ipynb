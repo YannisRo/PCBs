{
 "cells": [
  {
   "cell_type": "code",
   "execution_count": 1,
   "id": "dde3c856-dd3a-4261-bb42-5347de966929",
   "metadata": {},
   "outputs": [],
   "source": [
    "from datetime import date\n",
    "from pathlib import Path\n",
    "\n",
    "from loguru import logger\n",
    "import sentier_data_tools as sdt\n",
    "\n",
    "import os \n",
    "\n",
    "import brightway2 as bw\n",
    "import lca_algebraic as agb\n",
    "import numpy as np\n",
    "from sympy import init_printing\n",
    "import bw2io\n",
    "import bw2data as bd\n",
    "from dotenv import load_dotenv\n",
    "import matplotlib.pyplot as plt\n",
    "import pandas as pd\n",
    "pd.set_option('display.max_rows', 500)\n",
    "from sentier_data_tools import (\n",
    "    Demand,\n",
    "    Flow,\n",
    "    FlowIRI,\n",
    "    GeonamesIRI,\n",
    "    ModelTermIRI,\n",
    "    DatasetKind,\n",
    "    ProductIRI,\n",
    "    SentierModel,\n",
    ")\n",
    "# Pretty print for Sympy\n",
    "init_printing()"
   ]
  },
  {
   "cell_type": "code",
   "execution_count": 140,
   "id": "773be682-2ea2-4b6f-ae1c-01715e495e5f",
   "metadata": {},
   "outputs": [
    {
     "name": "stdout",
     "output_type": "stream",
     "text": [
      "Initial setup already done, skipping\n"
     ]
    },
    {
     "data": {
      "text/plain": [
       "Databases dictionary with 3 object(s):\n",
       "\tMyForeground\n",
       "\tecoinvent-3.10-biosphere\n",
       "\tecoinvent-3.10-cutoff"
      ]
     },
     "execution_count": 140,
     "metadata": {},
     "output_type": "execute_result"
    }
   ],
   "source": [
    "bw.projects.set_current('PCB_Project')\n",
    "\n",
    "bw.databases"
   ]
  },
  {
   "cell_type": "code",
   "execution_count": 141,
   "id": "808a718e-7490-4f2a-be16-622944f7f1c4",
   "metadata": {},
   "outputs": [
    {
     "name": "stderr",
     "output_type": "stream",
     "text": [
      "[WARNING] Db MyForeground was here. Reseting it\n"
     ]
    },
    {
     "data": {
      "text/html": [
       "<div>\n",
       "<style scoped>\n",
       "    .dataframe tbody tr th:only-of-type {\n",
       "        vertical-align: middle;\n",
       "    }\n",
       "\n",
       "    .dataframe tbody tr th {\n",
       "        vertical-align: top;\n",
       "    }\n",
       "\n",
       "    .dataframe thead th {\n",
       "        text-align: right;\n",
       "    }\n",
       "</style>\n",
       "<table border=\"1\" class=\"dataframe\">\n",
       "  <thead>\n",
       "    <tr style=\"text-align: right;\">\n",
       "      <th></th>\n",
       "      <th>backend</th>\n",
       "      <th>nb_activities</th>\n",
       "      <th>type</th>\n",
       "    </tr>\n",
       "    <tr>\n",
       "      <th>name</th>\n",
       "      <th></th>\n",
       "      <th></th>\n",
       "      <th></th>\n",
       "    </tr>\n",
       "  </thead>\n",
       "  <tbody>\n",
       "    <tr>\n",
       "      <th>ecoinvent-3.10-biosphere</th>\n",
       "      <td>sqlite</td>\n",
       "      <td>4363</td>\n",
       "      <td>biosphere</td>\n",
       "    </tr>\n",
       "    <tr>\n",
       "      <th>ecoinvent-3.10-cutoff</th>\n",
       "      <td>sqlite</td>\n",
       "      <td>23523</td>\n",
       "      <td>background</td>\n",
       "    </tr>\n",
       "    <tr>\n",
       "      <th>MyForeground</th>\n",
       "      <td>sqlite</td>\n",
       "      <td>0</td>\n",
       "      <td>foreground</td>\n",
       "    </tr>\n",
       "  </tbody>\n",
       "</table>\n",
       "</div>"
      ],
      "text/plain": [
       "                         backend  nb_activities        type\n",
       "name                                                       \n",
       "ecoinvent-3.10-biosphere  sqlite           4363   biosphere\n",
       "ecoinvent-3.10-cutoff     sqlite          23523  background\n",
       "MyForeground              sqlite              0  foreground"
      ]
     },
     "execution_count": 141,
     "metadata": {},
     "output_type": "execute_result"
    }
   ],
   "source": [
    "EcoInvent = \"ecoinvent-3.10-cutoff\"\n",
    "USER_DB = 'MyForeground'\n",
    "#agb.setForeground(DB_Buck)\n",
    "# This is better to cleanup the whole foreground model each time, and redefine it in the notebook (or a python file)\n",
    "# instead of relying on a state or previous run.\n",
    "# Any persistent state is prone to errors.\n",
    "agb.resetDb(USER_DB)\n",
    "# Parameters are stored at project level : \n",
    "# Reset them also\n",
    "# You may remove this line if you import a project and parameters from an external source (see loadParam(..))\n",
    "agb.resetParams()\n",
    "\n",
    "# Overview of the databases\n",
    "agb.list_databases()"
   ]
  },
  {
   "cell_type": "code",
   "execution_count": 10,
   "id": "c1a627c8-c2ef-452d-a7e9-9cfd567e180d",
   "metadata": {},
   "outputs": [],
   "source": [
    "class PCB_Model(SentierModel):\n",
    "    provides = {\n",
    "        ProductIRI(\n",
    "            \"link\"\n",
    "        ): \"Printed Wiring Board\",\n",
    "    }\n",
    "    aliases = {\n",
    "        ModelTermIRI(\n",
    "            \"https://vocab.sentier.dev/model-terms/pcb/layers_number\"\n",
    "        ): \"layers_number\",\n",
    "        ModelTermIRI(\n",
    "            \"https://vocab.sentier.dev/model-terms/pcb/base_material\"\n",
    "        ): \"base_material\",\n",
    "        ModelTermIRI(\n",
    "            \"https://vocab.sentier.dev/model-terms/pcb/percent_fiber_glass\"\n",
    "        ): \"percent_fiber_glass\",\n",
    "        ModelTermIRI(\n",
    "            \"https://vocab.sentier.dev/model-terms/pcb/board_thickness\"\n",
    "        ): \"board_thickness\",\n",
    "        ModelTermIRI(\n",
    "            \"https://vocab.sentier.dev/model-terms/pcb/copper_thickness\"\n",
    "        ): \"copper_thickness\",\n",
    "        ModelTermIRI(\n",
    "            \"https://vocab.sentier.dev/model-terms/pcb/mounting_type\"\n",
    "        ): \"mounting_type\",\n",
    "        \n",
    "        ProductIRI(\"https://vocab.sentier.dev/products/pcb\"): \"Electronic_factory\",\n",
    "    }\n",
    "\n",
    "    def get_electrolysis_inventory(self) -> None:\n",
    "        bom_electrolysis = self.get_model_data(\n",
    "            self, product=self.hydrogen, kind=DatasetKind.BOM\n",
    "        )\n",
    "\n",
    "    def run(self) -> tuple[list[Demand], list[Flow]]:\n",
    "        self.prepare()"
   ]
  },
  {
   "cell_type": "code",
   "execution_count": 11,
   "id": "b2bc511d-c01b-4791-8c03-4e696851c692",
   "metadata": {},
   "outputs": [],
   "source": [
    "def create_pcb_local_datastorage(reset: bool = True):\n",
    "    if reset:\n",
    "        sdt.reset_local_database()\n",
    "\n",
    "    df = pd.read_excel('Inventory_formated.xlsx')\n",
    "    assert len(COLUMNS) == len(UNITS)\n",
    "    assert len(COLUMNS) == len(df.columns) \n",
    "\n",
    "    metadata = sdt.Datapackage(\n",
    "        name=\"pcb production data from EcoInvent3.10\",\n",
    "        description=\"inventory taken in EcoInvent3.10 database\",\n",
    "        contributors=[\n",
    "            {\n",
    "                \"title\": \"Yannis Rosset\",\n",
    "                \"path\": \"I don't have any website !\",\n",
    "                \"role\": \"author\",\n",
    "            },\n",
    "        ],\n",
    "        homepage=\"https://ecoquery.ecoinvent.org/3.10/cutoff/dataset/9764/documentation\",\n",
    "    ).metadata()\n",
    "    metadata.pop(\"version\")\n",
    "\n",
    "    for kind, iri in TYPES:\n",
    "        copy = df.copy()\n",
    "        logger.info(\"Adding {} records for type {}\", len(copy), kind)\n",
    "#        copy.drop(labels=[\"Electrolysis type\"], axis=\"columns\", inplace=True)\n",
    "        copy.columns = COLUMNS\n",
    "\n",
    "        sdt.Dataset(\n",
    "            name=f\"pcb process model\",\n",
    "            dataframe=copy,\n",
    "            product=iri,\n",
    "            columns=[{\"iri\": x, \"unit\": y} for x, y in zip(COLUMNS, UNITS)],\n",
    "            metadata=metadata,\n",
    "            location=\"https://www.geonames.org/6295630/\",\n",
    "            version=1,\n",
    "            valid_from=date(2018, 1, 1),\n",
    "            valid_to=date(2028, 1, 1),\n",
    "        ).save()\n",
    "\n",
    "\n",
    "COLUMNS = [\n",
    "    \"https://vocab.sentier.dev/model-terms/generic/product\",  #pcb\n",
    "    \"https://vocab.sentier.dev/model-terms/energy/electricity\", #electricity\n",
    "    \"https://vocab.sentier.dev/model-terms/energy/heat\",  #heat\n",
    "    \"https://vocab.sentier.dev/flows/envo/ENVO_00003065\",  #ultrapure water\n",
    "    \"https://vocab.sentier.dev/model-terms/electronic_factory\", \n",
    "    \"http://data.europa.eu/xsp/cn2024/740300000080\", #copper\n",
    "    \"http://data.europa.eu/xsp/cn2024/701913000080\", #glass fiber\n",
    "    \"http://data.europa.eu/xsp/cn2024/390730000080\", # Epoxy\n",
    "    \"http://data.europa.eu/xsp/cn2024/280600000080\", #HCl\n",
    "    \"http://data.europa.eu/xsp/cn2024/284700000080\", #H2O2\n",
    "    \"http://data.europa.eu/xsp/cn2024/282739200080\", #Fe (III) Cl\n",
    "    \"http://data.europa.eu/xsp/cn2024/710800000080\", #Au\n",
    "    \"http://data.europa.eu/xsp/cn2024/750610000080\", #Ni\n",
    "    \"http://data.europa.eu/xsp/cn2024/710691000080\", #Ag\n",
    "    \"http://data.europa.eu/xsp/cn2024/250100000080\", #NaCl\n",
    "    \"http://data.europa.eu/xsp/cn2024/281512000080\", #NaOH\n",
    "    \"http://data.europa.eu/xsp/cn2024/280700000080\", #Sulfuric acid\n",
    "    \"https://vocab.sentier.dev/model-terms/pcb/pad_number\", #Pad number\n",
    "    \"https://vocab.sentier.dev/model-terms/pcb/pad_surface\", #surface area per pad\n",
    "\n",
    "]\n",
    "\n",
    "UNITS = [\n",
    "    \"https://www.w3.org/2001/XMLSchema#string\",\n",
    "    \"https://vocab.sentier.dev/units/unit/KiloW-HR\",\n",
    "    \"https://vocab.sentier.dev/units/unit/KiloW-HR\",\n",
    "    \"https://vocab.sentier.dev/units/unit/M3\",\n",
    "    \"https://vocab.sentier.dev/units/unit/???\", #unit for a factory ?\n",
    "    \"https://vocab.sentier.dev/units/unit/KiloGM\",\n",
    "    \"https://vocab.sentier.dev/units/unit/KiloGM\",\n",
    "    \"https://vocab.sentier.dev/units/unit/KiloGM\", #epoxy\n",
    "    \"https://vocab.sentier.dev/units/unit/L\",\n",
    "    \"https://vocab.sentier.dev/units/unit/L\",\n",
    "    \"https://vocab.sentier.dev/units/unit/L\",\n",
    "    \"https://vocab.sentier.dev/units/unit/KiloGM\",\n",
    "    \"https://vocab.sentier.dev/units/unit/KiloGM\",\n",
    "    \"https://vocab.sentier.dev/units/unit/KiloGM\",\n",
    "    \"https://vocab.sentier.dev/units/unit/L\",\n",
    "    \"https://vocab.sentier.dev/units/unit/L\",\n",
    "    \"https://vocab.sentier.dev/units/unit/L\",\n",
    "    \"https://vocab.sentier.dev/units/unit/NUM\",\n",
    "    \"https://vocab.sentier.dev/units/unit/MilliM2\",\n",
    "   \n",
    "]\n",
    "\n",
    "TYPES = [\n",
    "    (\"PCB\", \"https://vocab.sentier.dev/products/pcb\"),\n",
    "]\n",
    "\n"
   ]
  },
  {
   "cell_type": "code",
   "execution_count": 12,
   "id": "1010a815-67cc-4988-8162-601bf2a555a7",
   "metadata": {},
   "outputs": [
    {
     "data": {
      "text/plain": [
       "'0.5'"
      ]
     },
     "execution_count": 12,
     "metadata": {},
     "output_type": "execute_result"
    }
   ],
   "source": [
    "sdt.__version__"
   ]
  },
  {
   "cell_type": "code",
   "execution_count": 14,
   "id": "a38bbd7f-d602-4ebe-afd0-d052c1b4ad72",
   "metadata": {},
   "outputs": [
    {
     "name": "stderr",
     "output_type": "stream",
     "text": [
      "\u001b[32m2024-10-10 15:10:16.447\u001b[0m | \u001b[1mINFO    \u001b[0m | \u001b[36m__main__\u001b[0m:\u001b[36mcreate_pcb_local_datastorage\u001b[0m:\u001b[36m25\u001b[0m - \u001b[1mAdding 20 records for type PCB\u001b[0m\n"
     ]
    }
   ],
   "source": [
    "create_pcb_local_datastorage(True)"
   ]
  },
  {
   "cell_type": "code",
   "execution_count": null,
   "id": "6ccc6684-92f2-40da-8474-ae3a92b4a593",
   "metadata": {},
   "outputs": [],
   "source": []
  },
  {
   "cell_type": "markdown",
   "id": "128c789d-e8fd-4fd7-bff5-1875ff228d78",
   "metadata": {},
   "source": []
  }
 ],
 "metadata": {
  "kernelspec": {
   "display_name": "Python 3 (ipykernel)",
   "language": "python",
   "name": "python3"
  },
  "language_info": {
   "codemirror_mode": {
    "name": "ipython",
    "version": 3
   },
   "file_extension": ".py",
   "mimetype": "text/x-python",
   "name": "python",
   "nbconvert_exporter": "python",
   "pygments_lexer": "ipython3",
   "version": "3.12.0"
  }
 },
 "nbformat": 4,
 "nbformat_minor": 5
}
