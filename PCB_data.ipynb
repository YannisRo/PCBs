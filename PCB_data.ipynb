{
 "cells": [
  {
   "cell_type": "code",
   "execution_count": 1,
   "id": "dde3c856-dd3a-4261-bb42-5347de966929",
   "metadata": {},
   "outputs": [
    {
     "data": {
      "text/plain": [
       "Brightway2 projects manager with 19 objects:\n",
       "\tBrosseADent\n",
       "\tBrosseADentBrightway\n",
       "\tBuck Converter GaN Sauvegarde 18/04/24\n",
       "\tBuck Converter GaN2\n",
       "\tBuck Converter Sauvegarde 25/07/24\n",
       "\tBuck Converter Si\n",
       "\tBuck Converter Si Sauvegarde 18/04/24\n",
       "\tBuck Converter sauvegarde2\n",
       "\tBuck Converter scenarios\n",
       "\tEcoInvent Cumulative\n",
       "\tGI\n",
       "\tImporter LCIA\n",
       "\tTP T-shirt in progress\n",
       "\tTP Tshirt\n",
       "\tTP Tshirt Brightway\n",
       "\tTP_T-shirt_Advanced_LCA\n",
       "\tdefault\n",
       "\tecoinvent-3.10-cutoff\n",
       "\ttest_install\n",
       "Use `projects.report()` to get a report on all projects."
      ]
     },
     "execution_count": 1,
     "metadata": {},
     "output_type": "execute_result"
    }
   ],
   "source": [
    "\n",
    "\n",
    "import os \n",
    "\n",
    "import brightway2 as bw\n",
    "import lca_algebraic as agb\n",
    "import numpy as np\n",
    "from sympy import init_printing\n",
    "import bw2io\n",
    "import bw2data as bd\n",
    "from dotenv import load_dotenv\n",
    "import matplotlib.pyplot as plt\n",
    "import pandas as pd\n",
    "\n",
    "# Pretty print for Sympy\n",
    "init_printing()\n",
    "bw.projects"
   ]
  },
  {
   "cell_type": "code",
   "execution_count": 20,
   "id": "773be682-2ea2-4b6f-ae1c-01715e495e5f",
   "metadata": {},
   "outputs": [
    {
     "name": "stdout",
     "output_type": "stream",
     "text": [
      "Restoring project backup archive - this could take a few minutes...\n"
     ]
    },
    {
     "data": {
      "text/plain": [
       "'PCB_Project'"
      ]
     },
     "execution_count": 20,
     "metadata": {},
     "output_type": "execute_result"
    }
   ],
   "source": [
    "bw2io.backup.restore_project_directory(\"brightway2-project-ecoinvent-db-backup.08-October-2024-03-20PM.tar.gz\", \"PCB_Project\")"
   ]
  },
  {
   "cell_type": "code",
   "execution_count": 22,
   "id": "8959f5e5-bd6e-41a0-bc12-1cb3279d269e",
   "metadata": {},
   "outputs": [],
   "source": [
    "bw.projects.set_current('PCB_Project')"
   ]
  },
  {
   "cell_type": "code",
   "execution_count": null,
   "id": "80dcac56-ba05-4cb2-a6f1-49eb4647b5b5",
   "metadata": {},
   "outputs": [],
   "source": []
  }
 ],
 "metadata": {
  "kernelspec": {
   "display_name": "Python 3 (ipykernel)",
   "language": "python",
   "name": "python3"
  },
  "language_info": {
   "codemirror_mode": {
    "name": "ipython",
    "version": 3
   },
   "file_extension": ".py",
   "mimetype": "text/x-python",
   "name": "python",
   "nbconvert_exporter": "python",
   "pygments_lexer": "ipython3",
   "version": "3.10.0"
  }
 },
 "nbformat": 4,
 "nbformat_minor": 5
}
