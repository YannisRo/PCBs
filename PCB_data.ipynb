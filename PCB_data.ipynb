{
 "cells": [
  {
   "cell_type": "code",
   "execution_count": 2,
   "id": "dde3c856-dd3a-4261-bb42-5347de966929",
   "metadata": {},
   "outputs": [],
   "source": [
    "\n",
    "\n",
    "import os \n",
    "\n",
    "import brightway2 as bw\n",
    "import lca_algebraic as agb\n",
    "import numpy as np\n",
    "from sympy import init_printing\n",
    "import bw2io\n",
    "import bw2data as bd\n",
    "from dotenv import load_dotenv\n",
    "import matplotlib.pyplot as plt\n",
    "import pandas as pd\n",
    "\n",
    "# Pretty print for Sympy\n",
    "init_printing()"
   ]
  },
  {
   "cell_type": "code",
   "execution_count": null,
   "id": "4a0aab12-5299-4fae-b05e-0cf3b4d3e52c",
   "metadata": {},
   "outputs": [],
   "source": [
    "ECOINVENT_LOGIN=\"YOUR_LOGIN\" #suppress login before any git push\n",
    "ECOINVENT_PASSWORD=\"YOUR_PASSWORD\"   #suppress password before any git push"
   ]
  },
  {
   "cell_type": "code",
   "execution_count": 3,
   "id": "773be682-2ea2-4b6f-ae1c-01715e495e5f",
   "metadata": {},
   "outputs": [
    {
     "name": "stdout",
     "output_type": "stream",
     "text": [
      "Initial setup already done, skipping\n"
     ]
    },
    {
     "data": {
      "text/plain": [
       "Databases dictionary with 2 object(s):\n",
       "\tecoinvent-3.10-biosphere\n",
       "\tecoinvent-3.10-cutoff"
      ]
     },
     "execution_count": 3,
     "metadata": {},
     "output_type": "execute_result"
    }
   ],
   "source": [
    "bw.projects.set_current('PCB_Project')\n",
    "\n",
    "\n",
    "# This load .env file into os.environ\n",
    "load_dotenv()\n",
    "\n",
    "# This downloads ecoinvent and installs biopshere + technosphere + LCIA methods\n",
    "if len(bw.databases) > 0:\n",
    "    print(\"Initial setup already done, skipping\")\n",
    "   \n",
    "else:\n",
    "    # This is now the prefered method to init an Brightway2 with Ecoinvent\n",
    "    # It is not more tied to a specific version of bw2io\n",
    "    bw2io.import_ecoinvent_release(\n",
    "        version=\"3.10\",\n",
    "        system_model=\"cutoff\",\n",
    "        username=ECOINVENT_LOGIN, # Read for .env file\n",
    "        password=ECOINVENT_PASSWORD, # Read from .env file\n",
    "        use_mp=True)\n",
    "bw.databases"
   ]
  },
  {
   "cell_type": "code",
   "execution_count": 4,
   "id": "808a718e-7490-4f2a-be16-622944f7f1c4",
   "metadata": {},
   "outputs": [],
   "source": [
    "EcoInvent = \"ecoinvent-3.10-cutoff\""
   ]
  },
  {
   "cell_type": "code",
   "execution_count": 6,
   "id": "8959f5e5-bd6e-41a0-bc12-1cb3279d269e",
   "metadata": {},
   "outputs": [],
   "source": [
    "PCB_unmounted = agb.findActivity(\"printed wiring board production, for surface mounting, Pb free surface\", db_name=EcoInvent)"
   ]
  },
  {
   "cell_type": "code",
   "execution_count": 11,
   "id": "80dcac56-ba05-4cb2-a6f1-49eb4647b5b5",
   "metadata": {},
   "outputs": [
    {
     "name": "stderr",
     "output_type": "stream",
     "text": [
      "[WARNING] Error while parsing formula 'F-' : backing to amount\n"
     ]
    },
    {
     "data": {
      "text/html": [
       "<div>\n",
       "<style scoped>\n",
       "    .dataframe tbody tr th:only-of-type {\n",
       "        vertical-align: middle;\n",
       "    }\n",
       "\n",
       "    .dataframe tbody tr th {\n",
       "        vertical-align: top;\n",
       "    }\n",
       "\n",
       "    .dataframe thead tr th {\n",
       "        text-align: left;\n",
       "    }\n",
       "</style>\n",
       "<table border=\"1\" class=\"dataframe\">\n",
       "  <thead>\n",
       "    <tr>\n",
       "      <th></th>\n",
       "      <th colspan=\"3\" halign=\"left\">printed wiring board production, for surface mounting, Pb free surface (1.000000 square meter)</th>\n",
       "    </tr>\n",
       "    <tr>\n",
       "      <th></th>\n",
       "      <th>input</th>\n",
       "      <th>amount</th>\n",
       "      <th>unit</th>\n",
       "    </tr>\n",
       "  </thead>\n",
       "  <tbody>\n",
       "    <tr>\n",
       "      <th>AOX, Adsorbable Organic Halides</th>\n",
       "      <td>AOX, Adsorbable Organic Halides</td>\n",
       "      <td>3.62432e-05</td>\n",
       "      <td>kilogram</td>\n",
       "    </tr>\n",
       "    <tr>\n",
       "      <th>Arsenic ion</th>\n",
       "      <td>Arsenic ion</td>\n",
       "      <td>5.91178e-07</td>\n",
       "      <td>kilogram</td>\n",
       "    </tr>\n",
       "    <tr>\n",
       "      <th>BOD5, Biological Oxygen Demand</th>\n",
       "      <td>BOD5, Biological Oxygen Demand</td>\n",
       "      <td>0.0221811</td>\n",
       "      <td>kilogram</td>\n",
       "    </tr>\n",
       "    <tr>\n",
       "      <th>COD, Chemical Oxygen Demand</th>\n",
       "      <td>COD, Chemical Oxygen Demand</td>\n",
       "      <td>0.0221811</td>\n",
       "      <td>kilogram</td>\n",
       "    </tr>\n",
       "    <tr>\n",
       "      <th>Cadmium II</th>\n",
       "      <td>Cadmium II</td>\n",
       "      <td>Cd + 2</td>\n",
       "      <td>kilogram</td>\n",
       "    </tr>\n",
       "    <tr>\n",
       "      <th>...</th>\n",
       "      <td>...</td>\n",
       "      <td>...</td>\n",
       "      <td>...</td>\n",
       "    </tr>\n",
       "    <tr>\n",
       "      <th>waste emulsion paint#1</th>\n",
       "      <td>market for waste emulsion paint[Europe without...</td>\n",
       "      <td>-0.00517936</td>\n",
       "      <td>kilogram</td>\n",
       "    </tr>\n",
       "    <tr>\n",
       "      <th>waste emulsion paint#2</th>\n",
       "      <td>market for waste emulsion paint[CH]</td>\n",
       "      <td>-4.31943e-06</td>\n",
       "      <td>kilogram</td>\n",
       "    </tr>\n",
       "    <tr>\n",
       "      <th>water, ultrapure</th>\n",
       "      <td>market for water, ultrapure[RER]</td>\n",
       "      <td>69.433</td>\n",
       "      <td>kilogram</td>\n",
       "    </tr>\n",
       "    <tr>\n",
       "      <th>water, ultrapure#1</th>\n",
       "      <td>market for water, ultrapure[RoW]</td>\n",
       "      <td>96.8517</td>\n",
       "      <td>kilogram</td>\n",
       "    </tr>\n",
       "    <tr>\n",
       "      <th>water, ultrapure#2</th>\n",
       "      <td>market for water, ultrapure[CA-QC]</td>\n",
       "      <td>128.802</td>\n",
       "      <td>kilogram</td>\n",
       "    </tr>\n",
       "  </tbody>\n",
       "</table>\n",
       "<p>72 rows × 3 columns</p>\n",
       "</div>"
      ],
      "text/plain": [
       "                                printed wiring board production, for surface mounting, Pb free surface (1.000000 square meter)  \\\n",
       "                                                                                                                         input   \n",
       "AOX, Adsorbable Organic Halides                    AOX, Adsorbable Organic Halides                                               \n",
       "Arsenic ion                                                            Arsenic ion                                               \n",
       "BOD5, Biological Oxygen Demand                      BOD5, Biological Oxygen Demand                                               \n",
       "COD, Chemical Oxygen Demand                            COD, Chemical Oxygen Demand                                               \n",
       "Cadmium II                                                              Cadmium II                                               \n",
       "...                                                                            ...                                               \n",
       "waste emulsion paint#1           market for waste emulsion paint[Europe without...                                               \n",
       "waste emulsion paint#2                         market for waste emulsion paint[CH]                                               \n",
       "water, ultrapure                                  market for water, ultrapure[RER]                                               \n",
       "water, ultrapure#1                                market for water, ultrapure[RoW]                                               \n",
       "water, ultrapure#2                              market for water, ultrapure[CA-QC]                                               \n",
       "\n",
       "                                                        \n",
       "                                      amount      unit  \n",
       "AOX, Adsorbable Organic Halides  3.62432e-05  kilogram  \n",
       "Arsenic ion                      5.91178e-07  kilogram  \n",
       "BOD5, Biological Oxygen Demand     0.0221811  kilogram  \n",
       "COD, Chemical Oxygen Demand        0.0221811  kilogram  \n",
       "Cadmium II                            Cd + 2  kilogram  \n",
       "...                                      ...       ...  \n",
       "waste emulsion paint#1           -0.00517936  kilogram  \n",
       "waste emulsion paint#2          -4.31943e-06  kilogram  \n",
       "water, ultrapure                      69.433  kilogram  \n",
       "water, ultrapure#1                   96.8517  kilogram  \n",
       "water, ultrapure#2                   128.802  kilogram  \n",
       "\n",
       "[72 rows x 3 columns]"
      ]
     },
     "execution_count": 11,
     "metadata": {},
     "output_type": "execute_result"
    }
   ],
   "source": [
    "df = agb.printAct(PCB_unmounted)\n",
    "df"
   ]
  },
  {
   "cell_type": "code",
   "execution_count": null,
   "id": "52590e0b-ec87-4e0f-b518-cb892b5f966d",
   "metadata": {},
   "outputs": [],
   "source": []
  }
 ],
 "metadata": {
  "kernelspec": {
   "display_name": "Python 3 (ipykernel)",
   "language": "python",
   "name": "python3"
  },
  "language_info": {
   "codemirror_mode": {
    "name": "ipython",
    "version": 3
   },
   "file_extension": ".py",
   "mimetype": "text/x-python",
   "name": "python",
   "nbconvert_exporter": "python",
   "pygments_lexer": "ipython3",
   "version": "3.10.0"
  }
 },
 "nbformat": 4,
 "nbformat_minor": 5
}
